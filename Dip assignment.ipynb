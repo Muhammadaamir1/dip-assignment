{
 "cells": [
  {
   "cell_type": "markdown",
   "metadata": {},
   "source": [
    "# 2D Filter\n",
    "\n"
   ]
  },
  {
   "cell_type": "code",
   "execution_count": 1,
   "metadata": {
    "collapsed": false
   },
   "outputs": [
    {
     "name": "stdout",
     "output_type": "stream",
     "text": [
      "[[-1. -1. -1.]\n",
      " [-1.  8. -1.]\n",
      " [-1. -1. -1.]]\n"
     ]
    }
   ],
   "source": [
    "import cv2\n",
    "import numpy as np\n",
    "from matplotlib import pyplot as plt\n",
    "\n",
    "img = cv2.imread('opencv_logo.png')\n",
    "\n",
    "kernel = np.ones((3,3),np.float32) * (-1)\n",
    "kernel[1,1] = 8\n",
    "print(kernel)\n",
    "dst = cv2.filter2D(img,-1,kernel)\n",
    "\n",
    "plt.subplot(121),plt.imshow(img),plt.title('Original')\n",
    "plt.xticks([]), plt.yticks([])\n",
    "plt.subplot(122),plt.imshow(dst),plt.title('Filters')\n",
    "plt.xticks([]), plt.yticks([])\n",
    "plt.show()"
   ]
  },
  {
   "cell_type": "markdown",
   "metadata": {},
   "source": [
    "# Laplacian filter"
   ]
  },
  {
   "cell_type": "code",
   "execution_count": null,
   "metadata": {
    "collapsed": false
   },
   "outputs": [
    {
     "name": "stdout",
     "output_type": "stream",
     "text": [
      "L 743.63873 -1162.8534\n",
      "L 254.99998 0.0\n",
      "A 489.82138 23.98\n",
      "A 255.00002 0.0\n"
     ]
    }
   ],
   "source": [
    "import matplotlib.cm as cm\n",
    "import scipy.misc\n",
    "import scipy.ndimage.filters\n",
    "\n",
    "\n",
    "pic_n = 1\n",
    "def show_abs(I, plot_title):\n",
    "    plt.title(plot_title)\n",
    "    plt.tight_layout()\n",
    "    plt.axis('off')\n",
    "    plt.imshow(abs(I), cm.gray)\n",
    "\n",
    "A = scipy.misc.imread('opencv_logo.png', flatten=True)\n",
    "\n",
    "plt.figure(pic_n)\n",
    "pic_n += 1\n",
    "show_abs(A, 'Original image')\n",
    "\n",
    "A          -= np.amin(A) \n",
    "A          *= 255.0/np.amax(A)\n",
    "\n",
    "#Kernel for negative Laplacian\n",
    "kernel      = np.ones((3,3))*(-1)\n",
    "kernel[1,1] = 8\n",
    "\n",
    "Lap         = scipy.ndimage.filters.convolve(A, kernel)\n",
    "\n",
    "\n",
    "print('L', np.amax(Lap), np.amin(Lap))\n",
    "\n",
    "plt.figure(pic_n)\n",
    "pic_n += 1\n",
    "show_abs(Lap, 'Laplacian')\n",
    "\n",
    "\n",
    "Lap        -= np.amin(Lap)\n",
    "Lap        *= 255.0/np.amax(Lap)\n",
    "print('L', np.amax(Lap), np.amin(Lap))\n",
    "\n",
    "plt.figure(pic_n)\n",
    "pic_n += 1\n",
    "show_abs(Lap, 'Normalized Laplacian')\n",
    "\n",
    "A         += Lap \n",
    "print('A', np.amax(A), np.amin(A))\n",
    "A          -= np.amin(A)\n",
    "A          *= 255.0/np.amax(A)\n",
    "print('A', np.amax(A), np.amin(A))\n",
    "\n",
    "plt.figure(pic_n)\n",
    "pic_n += 1\n",
    "show_abs(A, 'Laplacian filtered img')\n",
    "\n",
    "plt.show()"
   ]
  },
  {
   "cell_type": "markdown",
   "metadata": {},
   "source": [
    "# Gaussian Filter"
   ]
  },
  {
   "cell_type": "code",
   "execution_count": null,
   "metadata": {
    "collapsed": true
   },
   "outputs": [],
   "source": [
    "import numpy as np\n",
    "import scipy.ndimage as ndimage\n",
    "import matplotlib.pyplot as plt\n",
    "\n",
    "img = ndimage.imread('opencv_logo.png')\n",
    "plt.imshow(img, interpolation='nearest')\n",
    "plt.show()\n",
    "\n",
    "img = ndimage.gaussian_filter(img, sigma=(5, 5, 0), order=0)\n",
    "plt.imshow(img, interpolation='nearest')\n",
    "plt.show()"
   ]
  },
  {
   "cell_type": "markdown",
   "metadata": {},
   "source": [
    "# Ideal Low and High Pass Filter"
   ]
  },
  {
   "cell_type": "code",
   "execution_count": null,
   "metadata": {
    "collapsed": true
   },
   "outputs": [],
   "source": [
    "import matplotlib.pyplot as plt\n",
    "import numpy as np\n",
    "from scipy import ndimage\n",
    "import Image\n",
    "\n",
    "def plot(data, title):\n",
    "    plot.i += 1\n",
    "    plt.subplot(2,2,plot.i)\n",
    "    plt.imshow(data)\n",
    "    plt.gray()\n",
    "    plt.title(title)\n",
    "plot.i = 0\n",
    "\n",
    "# Load the data...\n",
    "im = Image.open('opencv_logo.png')\n",
    "data = np.array(im, dtype=float)\n",
    "plot(data, 'Original')\n",
    "\n",
    "\n",
    "kernel = np.array([[-1, -1, -1],\n",
    "                   [-1,  8, -1],\n",
    "                   [-1, -1, -1]])\n",
    "highpass_3x3 = ndimage.convolve(data, kernel)\n",
    "plot(highpass_3x3, 'Simple 3x3 Lowpass')\n",
    "\n",
    "\n",
    "kernel = np.array([[-1, -1, -1, -1, -1],\n",
    "                   [-1,  1,  2,  1, -1],\n",
    "                   [-1,  2,  4,  2, -1],\n",
    "                   [-1,  1,  2,  1, -1],\n",
    "                   [-1, -1, -1, -1, -1]])\n",
    "highpass_5x5 = ndimage.convolve(data, kernel)\n",
    "plot(highpass_5x5, 'Simple 5x5 Highpass')\n",
    "\n",
    "\n",
    "lowpass = ndimage.ideal_filter(data, 3)\n",
    "gauss_highpass = data - lowpass\n",
    "plot(gauss_highpass, r'idle Highpass, $\\sigma = 3 pixels$')\n",
    "\n",
    "plt.show()"
   ]
  },
  {
   "cell_type": "code",
   "execution_count": null,
   "metadata": {
    "collapsed": true
   },
   "outputs": [],
   "source": []
  }
 ],
 "metadata": {
  "kernelspec": {
   "display_name": "Python [Root]",
   "language": "python",
   "name": "Python [Root]"
  },
  "language_info": {
   "codemirror_mode": {
    "name": "ipython",
    "version": 3
   },
   "file_extension": ".py",
   "mimetype": "text/x-python",
   "name": "python",
   "nbconvert_exporter": "python",
   "pygments_lexer": "ipython3",
   "version": "3.5.2"
  }
 },
 "nbformat": 4,
 "nbformat_minor": 0
}
